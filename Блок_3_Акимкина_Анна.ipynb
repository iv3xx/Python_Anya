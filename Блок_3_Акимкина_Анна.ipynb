{
  "nbformat": 4,
  "nbformat_minor": 0,
  "metadata": {
    "colab": {
      "provenance": []
    },
    "kernelspec": {
      "name": "python3",
      "display_name": "Python 3"
    },
    "language_info": {
      "name": "python"
    }
  },
  "cells": [
    {
      "cell_type": "markdown",
      "source": [
        "# Списки в Python\n",
        "Список — это, по сути, коллекция предметов, которые можно хранить вместе, например, как ваша корзина покупок.\n",
        "Вы можете добавлять, удалять и изменять предметы в списке, а также просматривать их.\n",
        "\n",
        "**Пример списка:**\n",
        "Представьте, что вы собираетесь в магазин, и у вас есть список покупок:"
      ],
      "metadata": {
        "id": "ibqxlKE1zUSQ"
      }
    },
    {
      "cell_type": "code",
      "source": [
        "# Пример простого списка покупок\n",
        "shopping_list = [\"хлеб\", \"молоко\", \"яйца\"]\n",
        "print(\"Список покупок:\", shopping_list)"
      ],
      "metadata": {
        "id": "FXEz6gSH06qI",
        "colab": {
          "base_uri": "https://localhost:8080/"
        },
        "outputId": "312b7b28-bd80-4c09-e2e1-295cb9118e55"
      },
      "execution_count": null,
      "outputs": [
        {
          "output_type": "stream",
          "name": "stdout",
          "text": [
            "Список покупок: ['хлеб', 'молоко', 'яйца']\n"
          ]
        }
      ]
    },
    {
      "cell_type": "markdown",
      "source": [
        "\n",
        "### Простой пример добавления и удаления элементов\n",
        "Попробуем добавить новый элемент в наш список и удалить существующий.\n",
        "\n",
        "Для этого мы используем функции **append** и **remove**"
      ],
      "metadata": {
        "id": "sg9jqqAxCzSF"
      }
    },
    {
      "cell_type": "code",
      "source": [
        "# Добавление и удаление элементов в списке\n",
        "shopping_list.append(\"сыр\")  # Добавим \"сыр\"\n",
        "print(\"Обновленный список покупок:\", shopping_list)\n",
        "\n",
        "shopping_list.remove(\"молоко\")  # Удалим \"молоко\"\n",
        "print(\"Список покупок после удаления молока:\", shopping_list)"
      ],
      "metadata": {
        "colab": {
          "base_uri": "https://localhost:8080/"
        },
        "id": "UMVbewdQ08Dn",
        "outputId": "6d747082-7703-4c56-f459-e751752b7720"
      },
      "execution_count": null,
      "outputs": [
        {
          "output_type": "stream",
          "name": "stdout",
          "text": [
            "Обновленный список покупок: ['хлеб', 'молоко', 'яйца', 'сыр']\n",
            "Список покупок после удаления молока: ['хлеб', 'яйца', 'сыр']\n"
          ]
        }
      ]
    },
    {
      "cell_type": "markdown",
      "source": [
        "#Индексация в списках\n",
        "\n",
        "Индексация в списках позволяет обратиться к конкретному элементу списка, используя его номер. В Python индексация начинается с нуля, то есть:\n",
        "\n",
        "Первый элемент списка имеет индекс 0.\n",
        "\n",
        "Второй элемент списка — индекс 1.\n",
        "\n",
        "Последний элемент можно получить через отрицательный индекс, например, -1.\n",
        "\n",
        "Образное объяснение\n",
        "Представьте, что список — это ряд ящиков, каждый из которых пронумерован:\n",
        "\n",
        "```diff\n",
        "+-------+-------+-------+-------+\n",
        "| Ящик 0| Ящик 1| Ящик 2| Ящик 3|\n",
        "+-------+-------+-------+-------+\n",
        "| яблоко| банан | груша | ананас|\n",
        "+-------+-------+-------+-------+\n",
        "```\n",
        "\n",
        "Чтобы достать, например, банан, вы говорите Python: \"Дай мне элемент с индексом 1\"."
      ],
      "metadata": {
        "id": "5mEqEJ-YDfir"
      }
    },
    {
      "cell_type": "code",
      "source": [
        "# Создаем список фруктов\n",
        "fruits = [\"яблоко\", \"банан\", \"груша\", \"ананас\"]\n",
        "\n",
        "# Обращаемся к элементам списка\n",
        "print(\"Первый фрукт:\", fruits[0])  # Индекс 0\n",
        "print(\"Второй фрукт:\", fruits[1])  # Индекс 1\n",
        "print(\"Последний фрукт:\", fruits[-1])  # Индекс -1 (последний элемент)\n"
      ],
      "metadata": {
        "colab": {
          "base_uri": "https://localhost:8080/"
        },
        "id": "FqR1qjguD8FD",
        "outputId": "46819bd4-22dc-4cf2-82d8-9e70d6772f46"
      },
      "execution_count": null,
      "outputs": [
        {
          "output_type": "stream",
          "name": "stdout",
          "text": [
            "Первый фрукт: яблоко\n",
            "Второй фрукт: банан\n",
            "Последний фрукт: ананас\n"
          ]
        }
      ]
    },
    {
      "cell_type": "markdown",
      "source": [
        "\n",
        "## Частые ошибки при работе со списками и советы\n",
        "\n",
        "1. **Забыли вызвать метод `.append()` правильно**: если написать `shopping_list.append` без `()`, то элемент не добавится.\n",
        "2. **Удаление несуществующего элемента**: при вызове `shopping_list.remove(\"товар\")`, убедитесь, что такой элемент есть в списке, иначе будет ошибка.\n",
        "3. **Неправильное использование индексов**: не забывайте, что индексация начинается с 0.\n"
      ],
      "metadata": {
        "id": "XqAG2XEoDJu1"
      }
    },
    {
      "cell_type": "markdown",
      "source": [
        "# Циклы в Python\n",
        "\n",
        "# Циклы: for и while\n",
        "\n",
        "## Что такое циклы?\n",
        "\n",
        "Циклы позволяют программистам выполнять один и тот же участок кода несколько раз, что особенно полезно, когда нужно обрабатывать повторяющиеся задачи или данные. В Python есть два основных типа циклов: `for` и `while`.\n",
        "\n",
        "## Цикл `for`\n",
        "\n",
        "Цикл `for` используется для перебора последовательностей (например, списков, строк) или для выполнения блока кода фиксированное количество раз.\n",
        "\n",
        "### Синтаксис:\n",
        "\n",
        "```python\n",
        "for переменная in последовательность:\n",
        "    # Код, который будет выполняться на каждой итерации\n",
        "```\n",
        "\n",
        "## Зачем нужны циклы?\n",
        "Для перебора элементов последовательности\n",
        "\n",
        "Без циклов нам бы пришлось дублировать код.\n"
      ],
      "metadata": {
        "id": "Bu7KPJ8WHcG0"
      }
    },
    {
      "cell_type": "markdown",
      "source": [
        "## Примеры циклов в жизни и в Python\n",
        "\n",
        "### Пример: Повторяющиеся задачи в цикле\n",
        "Допустим, вам нужно разослать 5 приглашений на праздник. С помощью цикла `for` это можно сделать так:"
      ],
      "metadata": {
        "id": "uYuB1TXXEbcT"
      }
    },
    {
      "cell_type": "code",
      "source": [
        "for i in range(5):\n",
        "    print(\"Приглашаем вас на праздник!\")"
      ],
      "metadata": {
        "id": "UxziS6QcEh5y",
        "colab": {
          "base_uri": "https://localhost:8080/"
        },
        "outputId": "a50dc06b-b71b-4aa7-aee9-f1dbf63ba262"
      },
      "execution_count": null,
      "outputs": [
        {
          "output_type": "stream",
          "name": "stdout",
          "text": [
            "Приглашаем вас на праздник!\n",
            "Приглашаем вас на праздник!\n",
            "Приглашаем вас на праздник!\n",
            "Приглашаем вас на праздник!\n",
            "Приглашаем вас на праздник!\n"
          ]
        }
      ]
    },
    {
      "cell_type": "markdown",
      "source": [
        "Попробуйте сами написать цикл, который приветствует студентов в классе."
      ],
      "metadata": {
        "id": "192SFHXrEkVq"
      }
    },
    {
      "cell_type": "code",
      "source": [
        "for i in range(15):\n",
        "    print(\"Студент\", i,\", приветствую!\")"
      ],
      "metadata": {
        "id": "BHJzFza9FJmy",
        "colab": {
          "base_uri": "https://localhost:8080/"
        },
        "outputId": "27386955-a6ae-46da-e408-ded958f7ab96"
      },
      "execution_count": null,
      "outputs": [
        {
          "output_type": "stream",
          "name": "stdout",
          "text": [
            "Студент 0 , приветствую!\n",
            "Студент 1 , приветствую!\n",
            "Студент 2 , приветствую!\n",
            "Студент 3 , приветствую!\n",
            "Студент 4 , приветствую!\n",
            "Студент 5 , приветствую!\n",
            "Студент 6 , приветствую!\n",
            "Студент 7 , приветствую!\n",
            "Студент 8 , приветствую!\n",
            "Студент 9 , приветствую!\n",
            "Студент 10 , приветствую!\n",
            "Студент 11 , приветствую!\n",
            "Студент 12 , приветствую!\n",
            "Студент 13 , приветствую!\n",
            "Студент 14 , приветствую!\n"
          ]
        }
      ]
    },
    {
      "cell_type": "markdown",
      "source": [
        "#Перебор элементов списка с помощью цикла"
      ],
      "metadata": {
        "id": "U4TFNYDOFreT"
      }
    },
    {
      "cell_type": "code",
      "source": [
        "fruits = [\"яблоко\", \"банан\", \"груша\", \"ананас\"]\n",
        "\n",
        "for fruit in fruits:\n",
        "  print(\"Элемента списка - \", fruit)"
      ],
      "metadata": {
        "colab": {
          "base_uri": "https://localhost:8080/"
        },
        "id": "vR3L705DFwWi",
        "outputId": "428bd6ac-3afa-44ed-c433-72100c0a8649"
      },
      "execution_count": null,
      "outputs": [
        {
          "output_type": "stream",
          "name": "stdout",
          "text": [
            "Элемента списка -  яблоко\n",
            "Элемента списка -  банан\n",
            "Элемента списка -  груша\n",
            "Элемента списка -  ананас\n"
          ]
        }
      ]
    },
    {
      "cell_type": "markdown",
      "source": [
        "### Проблема: повторение кода.\n",
        "\n",
        "Представим что мы хотим увеличивать число на 5 и выводить его несколько раз, без цикла это выглядит следующим образом:"
      ],
      "metadata": {
        "id": "CZ8jQjvBFJwa"
      }
    },
    {
      "cell_type": "code",
      "source": [
        "# Пример кода без использования цикла, где код повторяется много раз\n",
        "number = 10\n",
        "number = number + 5\n",
        "print(\"Новое значение числа:\", number)\n",
        "number = number + 5\n",
        "print(\"Новое значение числа:\", number)\n",
        "number = number + 5\n",
        "print(\"Новое значение числа:\", number)"
      ],
      "metadata": {
        "colab": {
          "base_uri": "https://localhost:8080/"
        },
        "id": "fHifyr7XFCBh",
        "outputId": "366b9384-773b-494d-db3f-cfc16fa37dbb"
      },
      "execution_count": null,
      "outputs": [
        {
          "output_type": "stream",
          "name": "stdout",
          "text": [
            "Новое значение числа: 15\n",
            "Новое значение числа: 20\n",
            "Новое значение числа: 25\n"
          ]
        }
      ]
    },
    {
      "cell_type": "markdown",
      "source": [
        "\n",
        "### Хороший пример с циклом:\n",
        "Вместо того чтобы вручную повторять операцию, можно использовать цикл `for` или `while` для автоматизации процесса.\n"
      ],
      "metadata": {
        "id": "NeGX5AfvHgX0"
      }
    },
    {
      "cell_type": "code",
      "source": [
        "# Хороший пример с циклом for\n",
        "number = 10\n",
        "for _ in range(3):  # Повторяем 3 раза\n",
        "    number = number + 5\n",
        "    print(\"Новое значение числа:\", number)"
      ],
      "metadata": {
        "id": "gS_7Cj2GHjrs",
        "outputId": "f4f8e2ce-95c4-4b7c-af3a-21799139c70b",
        "colab": {
          "base_uri": "https://localhost:8080/"
        }
      },
      "execution_count": null,
      "outputs": [
        {
          "output_type": "stream",
          "name": "stdout",
          "text": [
            "Новое значение числа: 15\n",
            "Новое значение числа: 20\n",
            "Новое значение числа: 25\n"
          ]
        }
      ]
    },
    {
      "cell_type": "markdown",
      "source": [
        "**range(n)** - создает последовательность из n чисел от 0 до n.\n",
        "\n",
        "Цикл for выполняется столько раз, сколько элементов в последовательности,\n",
        "\n",
        "Поэтому когда мы пишем **for _ in range(3)** - код выполнится 3 раза\n",
        "\n",
        "Если вместо _ мы напишем имя переменной, мы сможем использовать ее в коде."
      ],
      "metadata": {
        "id": "V_DxaeZ6Gb7B"
      }
    },
    {
      "cell_type": "code",
      "source": [
        "for i in range(5):\n",
        "    print(i)"
      ],
      "metadata": {
        "colab": {
          "base_uri": "https://localhost:8080/"
        },
        "id": "fifPIBIsJMaE",
        "outputId": "53e673bd-ed4b-4efa-f229-a38ce5472f53"
      },
      "execution_count": null,
      "outputs": [
        {
          "output_type": "stream",
          "name": "stdout",
          "text": [
            "0\n",
            "1\n",
            "2\n",
            "3\n",
            "4\n"
          ]
        }
      ]
    },
    {
      "cell_type": "markdown",
      "source": [
        "Если в range указать два числа, то он создаст последовательность чисел от первого до второго"
      ],
      "metadata": {
        "id": "Z_27veWyHNZR"
      }
    },
    {
      "cell_type": "code",
      "source": [
        "for i in range(5, 10):\n",
        "  print(i)"
      ],
      "metadata": {
        "colab": {
          "base_uri": "https://localhost:8080/"
        },
        "id": "4shczA_GHINS",
        "outputId": "9c8ee132-12ff-4a1b-ac9d-14879321edd4"
      },
      "execution_count": null,
      "outputs": [
        {
          "output_type": "stream",
          "name": "stdout",
          "text": [
            "5\n",
            "6\n",
            "7\n",
            "8\n",
            "9\n"
          ]
        }
      ]
    },
    {
      "cell_type": "markdown",
      "source": [
        "### Цикл while:\n",
        "Цикл `while` продолжает выполняться, пока условие остается истинным. Например, можно использовать его для увеличения числа до тех пор, пока оно не станет больше 25.\n",
        "\n",
        "### Синтаксис:\n",
        "\n",
        "```python\n",
        "while условие:\n",
        "    # Код, который будет выполняться на каждой итерации\n",
        "```"
      ],
      "metadata": {
        "id": "TuhO1mS6Hq_E"
      }
    },
    {
      "cell_type": "code",
      "source": [
        "\n",
        "number = 0\n",
        "\n",
        "# Цикл while, который выполняется, пока число не больше 25\n",
        "while number <= 25:\n",
        "    print(number)\n",
        "    number += 1\n"
      ],
      "metadata": {
        "colab": {
          "base_uri": "https://localhost:8080/"
        },
        "id": "3Y60jEfDHbKr",
        "outputId": "500bb974-af16-42ee-f578-f42f11bfde5c"
      },
      "execution_count": null,
      "outputs": [
        {
          "output_type": "stream",
          "name": "stdout",
          "text": [
            "0\n",
            "1\n",
            "2\n",
            "3\n",
            "4\n",
            "5\n",
            "6\n",
            "7\n",
            "8\n",
            "9\n",
            "10\n",
            "11\n",
            "12\n",
            "13\n",
            "14\n",
            "15\n",
            "16\n",
            "17\n",
            "18\n",
            "19\n",
            "20\n",
            "21\n",
            "22\n",
            "23\n",
            "24\n",
            "25\n"
          ]
        }
      ]
    },
    {
      "cell_type": "code",
      "source": [
        "number = 1\n",
        "\n",
        "\n",
        "while number <= 10:\n",
        "    print(number)\n",
        "    number += 1\n",
        "\n",
        "print(\"Программа закончилась\")\n"
      ],
      "metadata": {
        "colab": {
          "base_uri": "https://localhost:8080/"
        },
        "id": "_RkZhYsuHsk2",
        "outputId": "6d425f59-a3cb-4e55-f713-19b5cf4a3312"
      },
      "execution_count": null,
      "outputs": [
        {
          "output_type": "stream",
          "name": "stdout",
          "text": [
            "1\n",
            "2\n",
            "3\n",
            "4\n",
            "5\n",
            "6\n",
            "7\n",
            "8\n",
            "9\n",
            "10\n",
            "Программа закончилась\n"
          ]
        }
      ]
    },
    {
      "cell_type": "code",
      "source": [
        "#измените программу так чтобы она выполнялась до числа 50\n",
        "number = 0\n",
        "\n",
        "\n",
        "while number < 50:\n",
        "    number += 10\n",
        "    print(number)\n",
        "\n",
        "print(\"Программа закончилась\")\n"
      ],
      "metadata": {
        "colab": {
          "base_uri": "https://localhost:8080/"
        },
        "id": "PpEFOKbkHDuI",
        "outputId": "6ffb6874-dc4d-443c-c0db-424bef872eec"
      },
      "execution_count": null,
      "outputs": [
        {
          "output_type": "stream",
          "name": "stdout",
          "text": [
            "10\n",
            "20\n",
            "30\n",
            "40\n",
            "50\n",
            "Программа закончилась\n"
          ]
        }
      ]
    },
    {
      "cell_type": "markdown",
      "source": [
        "## Задания для закрепления материала по циклам:\n",
        "\n",
        "1. **Сумма чисел:**\n",
        "   Напишите программу, которая использует цикл `for` для вычисления суммы всех чисел от 1 до 10 (включительно) и выводит результат.\n",
        "\n",
        "2. **Вывод квадратов чисел:**\n",
        "   Напишите программу, которая использует цикл `for`, чтобы вывести квадраты чисел от 1 до 5. Результат должен быть в формате \"Квадрат числа X равен Y\".\n",
        "\n",
        "3. **Таблица умножения:**\n",
        "   Напишите программу, которая запрашивает у пользователя число и выводит таблицу умножения для этого числа (от 1 до 10) с помощью цикла `for`. Результат должен быть в формате \"X * Y = Z\".\n"
      ],
      "metadata": {
        "id": "oXHg39_ZI5db"
      }
    },
    {
      "cell_type": "code",
      "source": [
        "#Задание 1\n",
        "total_sum = 0\n",
        "for number in range(1, 11):\n",
        "    total_sum += number\n",
        "print(\"Сумма всех чисел от 1 до 10 равна:\",total_sum)\n"
      ],
      "metadata": {
        "id": "T7yUJysaI99E",
        "colab": {
          "base_uri": "https://localhost:8080/"
        },
        "outputId": "49c982ad-e503-47ec-c28b-53c5afab0ff1"
      },
      "execution_count": 1,
      "outputs": [
        {
          "output_type": "stream",
          "name": "stdout",
          "text": [
            "Сумма всех чисел от 1 до 10 равна: 55\n"
          ]
        }
      ]
    },
    {
      "cell_type": "code",
      "source": [
        "#задание 2\n",
        "\n",
        "for x in range(1, 6):\n",
        "\n",
        "    square = x ** 2\n",
        "    print(\"Квадрат числа\",x, \"равен\", square)\n",
        "\n"
      ],
      "metadata": {
        "id": "IIL_E6rg9aI_",
        "colab": {
          "base_uri": "https://localhost:8080/"
        },
        "outputId": "dfd703d7-44c4-41f3-fb9c-a0a4851b5f2a"
      },
      "execution_count": 2,
      "outputs": [
        {
          "output_type": "stream",
          "name": "stdout",
          "text": [
            "Квадрат числа 1 равен 1\n",
            "Квадрат числа 2 равен 4\n",
            "Квадрат числа 3 равен 9\n",
            "Квадрат числа 4 равен 16\n",
            "Квадрат числа 5 равен 25\n"
          ]
        }
      ]
    },
    {
      "cell_type": "code",
      "source": [
        "#задание 3\n",
        "\n",
        "\n",
        "number = int(input(\"Введите число для вывода таблицы умножения: \"))\n",
        "\n",
        "\n",
        "print(\"Таблица умножения для числа\", number,\":\")\n",
        "for i in range(1, 11):\n",
        "    result = number * i\n",
        "    print( number, \"*\",  i ,\"=\", result)\n"
      ],
      "metadata": {
        "id": "GmviuAn7AGks",
        "colab": {
          "base_uri": "https://localhost:8080/"
        },
        "outputId": "ae140d1a-3cb3-49c4-be61-7ebd410ec6b7"
      },
      "execution_count": 3,
      "outputs": [
        {
          "output_type": "stream",
          "name": "stdout",
          "text": [
            "Введите число для вывода таблицы умножения: 6\n",
            "Таблица умножения для числа 6 :\n",
            "6 * 1 = 6\n",
            "6 * 2 = 12\n",
            "6 * 3 = 18\n",
            "6 * 4 = 24\n",
            "6 * 5 = 30\n",
            "6 * 6 = 36\n",
            "6 * 7 = 42\n",
            "6 * 8 = 48\n",
            "6 * 9 = 54\n",
            "6 * 10 = 60\n"
          ]
        }
      ]
    }
  ]
}