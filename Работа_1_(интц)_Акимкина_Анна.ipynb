{
  "nbformat": 4,
  "nbformat_minor": 0,
  "metadata": {
    "colab": {
      "provenance": []
    },
    "kernelspec": {
      "name": "python3",
      "display_name": "Python 3"
    },
    "language_info": {
      "name": "python"
    }
  },
  "cells": [
    {
      "cell_type": "markdown",
      "source": [
        "Запишите свое ФИО и номер группы"
      ],
      "metadata": {
        "id": "HO0fE-JfkOds"
      }
    },
    {
      "cell_type": "code",
      "source": [
        "Акимкина Анна 0322"
      ],
      "metadata": {
        "id": "rQ_iWGydkRmE"
      },
      "execution_count": null,
      "outputs": []
    },
    {
      "cell_type": "markdown",
      "source": [
        "### Задание 1\n",
        "Попросите пользователя ввести свое имя и выведите приветствие, включающее это имя."
      ],
      "metadata": {
        "id": "8YUT4hxgkRxk"
      }
    },
    {
      "cell_type": "code",
      "source": [
        "name = input(\"Введите ваше имя: \")\n",
        "\n",
        "print(\"Привет\", name,\"! Этот код тебя видеть!\")\n"
      ],
      "metadata": {
        "id": "e6UBphq1k1wU",
        "colab": {
          "base_uri": "https://localhost:8080/"
        },
        "outputId": "1395960b-a63a-4305-dd05-e132db8565c6"
      },
      "execution_count": 2,
      "outputs": [
        {
          "output_type": "stream",
          "name": "stdout",
          "text": [
            "Введите ваше имя: Зайчик\n",
            "Привет Зайчик ! Этот код тебя видеть!\n"
          ]
        }
      ]
    },
    {
      "cell_type": "markdown",
      "source": [
        "### Задание 2\n",
        "Запросите у пользователя его возраст и выведите сообщение, указывающее, сколько ему будет лет через 5 лет."
      ],
      "metadata": {
        "id": "XTZLCK9ek11U"
      }
    },
    {
      "cell_type": "code",
      "source": [
        "# Запрашиваем у пользователя его возраст\n",
        "age = int(input(\"Введите ваш возраст: \"))\n",
        "\n",
        "# Вычисляем возраст через 5 лет\n",
        "ageFuture = age + 5\n",
        "\n",
        "# Выводим сообщение\n",
        "print(\"Через 5 лет вам будет\", ageFuture, \" лет.\")\n"
      ],
      "metadata": {
        "id": "l1qhld7wk4gc",
        "colab": {
          "base_uri": "https://localhost:8080/"
        },
        "outputId": "6505ae0f-288b-4bfd-a2ed-fac6ee47f2bd"
      },
      "execution_count": 3,
      "outputs": [
        {
          "output_type": "stream",
          "name": "stdout",
          "text": [
            "Введите ваш возраст: 22\n",
            "Через 5 лет вам будет 27  лет.\n"
          ]
        }
      ]
    },
    {
      "cell_type": "markdown",
      "source": [
        "### Задание 3\n",
        "Запросите у пользователя два числа и выведите их сумму."
      ],
      "metadata": {
        "id": "5Ka2A-8kk7h0"
      }
    },
    {
      "cell_type": "code",
      "source": [
        "# Запрашиваем у пользователя два числа\n",
        "number1 = int(input(\"Введите первое число: \"))\n",
        "number2 = int(input(\"Введите второе число: \"))\n",
        "\n",
        "# Вычисляем сумму чисел\n",
        "total_sum = number1 + number2\n",
        "\n",
        "# Выводим результат\n",
        "print(\"Сумма чисел\", number1 ,  \"и\" ,number2,  \"равна\" ,total_sum)\n"
      ],
      "metadata": {
        "id": "Ru-5l3yYk75s",
        "colab": {
          "base_uri": "https://localhost:8080/"
        },
        "outputId": "cebcddb2-790a-4f08-e734-6e21c55243da"
      },
      "execution_count": 5,
      "outputs": [
        {
          "output_type": "stream",
          "name": "stdout",
          "text": [
            "Введите первое число: 7\n",
            "Введите второе число: 9\n",
            "Сумма чисел 7 и 9 равна 16\n"
          ]
        }
      ]
    },
    {
      "cell_type": "markdown",
      "source": [
        "### Задание 4\n",
        "Запросите у пользователя его любимый цвет и выведите сообщение: \"Твой любимый цвет - [цвет]\"."
      ],
      "metadata": {
        "id": "VoSzvXcRk94c"
      }
    },
    {
      "cell_type": "code",
      "source": [
        "favorite_color = input(\"Какой у тебя любимый цвет? \")\n",
        "\n",
        "print(\"Твой любимый цвет -\",favorite_color)\n"
      ],
      "metadata": {
        "id": "EfBZ_hGgk-G8",
        "colab": {
          "base_uri": "https://localhost:8080/"
        },
        "outputId": "00e95851-0cd9-4b24-eb09-0c92773da5d8"
      },
      "execution_count": 6,
      "outputs": [
        {
          "output_type": "stream",
          "name": "stdout",
          "text": [
            "Какой у тебя любимый цвет? Серый\n",
            "Твой любимый цвет - Серый\n"
          ]
        }
      ]
    },
    {
      "cell_type": "markdown",
      "source": [
        "### Задание 5\n",
        "Попросите пользователя ввести свое имя и возраст. Затем выведите сообщение: \"Привет, [имя]! Тебе [возраст] лет.\""
      ],
      "metadata": {
        "id": "8XKgBH2qlAp1"
      }
    },
    {
      "cell_type": "code",
      "source": [
        "name = input(\"Введите ваше имя: \")\n",
        "\n",
        "age = int(input(\"Введите ваш возраст: \"))\n",
        "\n",
        "print(\"Привет,\", name,\"!\", \"Тебе\", age, \"лет.\")\n"
      ],
      "metadata": {
        "id": "CO-DYodalANk",
        "colab": {
          "base_uri": "https://localhost:8080/"
        },
        "outputId": "393fc303-9152-42fd-87fe-ce0ce8e5c00a"
      },
      "execution_count": 9,
      "outputs": [
        {
          "output_type": "stream",
          "name": "stdout",
          "text": [
            "Введите ваше имя: Анна\n",
            "Введите ваш возраст: 22\n",
            "Привет, Анна ! Тебе 22 лет.\n"
          ]
        }
      ]
    },
    {
      "cell_type": "markdown",
      "source": [
        "### Задание 6\n",
        "Запросите у пользователя два числа и выведите результат их умножения."
      ],
      "metadata": {
        "id": "JbxhQTq4lBJl"
      }
    },
    {
      "cell_type": "code",
      "source": [
        "number1 = int(input(\"Введите первое число: \"))\n",
        "number2 = int(input(\"Введите второе число: \"))\n",
        "\n",
        "result = number1 * number2\n",
        "\n",
        "print(f\"Результат умножения {number1} и {number2} равен {result}.\")\n"
      ],
      "metadata": {
        "id": "13gMOtYulDEs",
        "colab": {
          "base_uri": "https://localhost:8080/"
        },
        "outputId": "a65ab823-3952-423d-971f-e0f05ba34acf"
      },
      "execution_count": 11,
      "outputs": [
        {
          "output_type": "stream",
          "name": "stdout",
          "text": [
            "Введите первое число: 8\n",
            "Введите второе число: 9\n",
            "Результат умножения 8 и 9 равен 72.\n"
          ]
        }
      ]
    },
    {
      "cell_type": "markdown",
      "source": [
        "### Задание 7\n",
        "Попросите пользователя ввести свою страну и город, а затем выведите сообщение: \"Вы живете в городе [город], страна [страна]\"."
      ],
      "metadata": {
        "id": "fqBLpUT6lDL8"
      }
    },
    {
      "cell_type": "code",
      "source": [
        "country = input(\"Введите вашу страну: \")\n",
        "city = input(\"Введите ваш город: \")\n",
        "\n",
        "print(f\"Вы живете в городе {city}, страна {country}.\")\n"
      ],
      "metadata": {
        "id": "oKDwT7GhlFcM",
        "colab": {
          "base_uri": "https://localhost:8080/"
        },
        "outputId": "defc7443-6105-4ed4-e415-f30a6fb045ff"
      },
      "execution_count": 12,
      "outputs": [
        {
          "output_type": "stream",
          "name": "stdout",
          "text": [
            "Введите вашу страну: Россия\n",
            "Введите ваш город: Великий Новгород\n",
            "Вы живете в городе Великий Новгород, страна Россия.\n"
          ]
        }
      ]
    },
    {
      "cell_type": "markdown",
      "source": [
        "### Задание 8\n",
        "Запросите у пользователя длину стороны квадрата и выведите его периметр (P = 4 * длина стороны).\n"
      ],
      "metadata": {
        "id": "TV1Od3FxlIhc"
      }
    },
    {
      "cell_type": "code",
      "source": [
        "side_length = int(input(\"Введите длину стороны квадрата: \"))\n",
        "\n",
        "perimeter = 4 * side_length\n",
        "\n",
        "print(f\"Периметр квадрата со стороной {side_length} равен {perimeter}.\")\n"
      ],
      "metadata": {
        "id": "6I-FjSxmlKJ8",
        "colab": {
          "base_uri": "https://localhost:8080/"
        },
        "outputId": "ac750a22-c721-4a38-9cb9-6f212dedebdb"
      },
      "execution_count": 13,
      "outputs": [
        {
          "output_type": "stream",
          "name": "stdout",
          "text": [
            "Введите длину стороны квадрата: 6\n",
            "Периметр квадрата со стороной 6 равен 24.\n"
          ]
        }
      ]
    },
    {
      "cell_type": "markdown",
      "source": [
        "### Задание 9\n",
        "Попросите пользователя ввести число и выведите это число, увеличенное на 10."
      ],
      "metadata": {
        "id": "brjPbwPVlKps"
      }
    },
    {
      "cell_type": "code",
      "source": [
        "number = int(input(\"Введите число: \"))\n",
        "result = number + 10\n",
        "\n",
        "print(f\"{number} увеличенное на 10 равно {result}.\")\n"
      ],
      "metadata": {
        "id": "zs7GWf8mlNBE",
        "colab": {
          "base_uri": "https://localhost:8080/"
        },
        "outputId": "a9baeff7-baaa-48b2-e488-432cb8f23b87"
      },
      "execution_count": 15,
      "outputs": [
        {
          "output_type": "stream",
          "name": "stdout",
          "text": [
            "Введите число: 7\n",
            "7 увеличенное на 10 равно 17.\n"
          ]
        }
      ]
    },
    {
      "cell_type": "markdown",
      "source": [
        "### Задание 10\n",
        "Запросите у пользователя его имя и фамилию, затем выведите их в формате \"Фамилия, Имя\"."
      ],
      "metadata": {
        "id": "ZqbAIrQ8lP0c"
      }
    },
    {
      "cell_type": "code",
      "source": [
        "first_name = input(\"Введите ваше имя: \")\n",
        "last_name = input(\"Введите вашу фамилию: \")\n",
        "\n",
        "print(f\"{last_name}, {first_name}\")\n"
      ],
      "metadata": {
        "id": "569BsuB4lQD8",
        "colab": {
          "base_uri": "https://localhost:8080/"
        },
        "outputId": "13d8e4a4-7a5a-448d-9643-61e45b245930"
      },
      "execution_count": 16,
      "outputs": [
        {
          "output_type": "stream",
          "name": "stdout",
          "text": [
            "Введите ваше имя: Анна\n",
            "Введите вашу фамилию: Акимкина\n",
            "Акимкина, Анна\n"
          ]
        }
      ]
    }
  ]
}