{
  "nbformat": 4,
  "nbformat_minor": 0,
  "metadata": {
    "colab": {
      "provenance": []
    },
    "kernelspec": {
      "name": "python3",
      "display_name": "Python 3"
    },
    "language_info": {
      "name": "python"
    }
  },
  "cells": [
    {
      "cell_type": "markdown",
      "source": [
        "# Функции в Python\n",
        "\n",
        "## Что такое функция?\n",
        "**Функция** — это способ объединить набор инструкций под одним именем, чтобы легко **вызывать** их в разных частях программы. Это помогает избежать повторного написания одинакового кода и делает программу более понятной.\n",
        "\n",
        "Придумывать **имена для функций можно любые**, но старайтесь, чтобы они отражали суть задачи, например, greet (приветствие) или summ (вычисление суммы).\n",
        "\n",
        "### Пример функции:\n",
        "\n",
        "Мы **создадим функцию** под названием greet, которая выводит приветствие. Название greet выбрано, потому что оно отражает назначение функции, но вы можете использовать любое подходящее имя. Главное, чтобы оно помогало вам и другим программистам понимать, что делает функция."
      ],
      "metadata": {
        "id": "5GhaNL491oH3"
      }
    },
    {
      "cell_type": "code",
      "source": [
        "# Определим функцию, которая приветствует пользователя\n",
        "def greet():\n",
        "    print(\"Здравствуйте, Ivan!\")  # Выводим приветственное сообщение\n",
        "    print(\"Это пример функции\")    # Дополнительная строка в функции\n",
        "\n",
        "# Вызовем нашу функцию greet, чтобы она выполнила свои действия\n",
        "greet()"
      ],
      "metadata": {
        "id": "dHyXRawWtg5A",
        "colab": {
          "base_uri": "https://localhost:8080/"
        },
        "outputId": "0acd3f55-ac46-4966-ddd8-bf81404f089b"
      },
      "execution_count": null,
      "outputs": [
        {
          "output_type": "stream",
          "name": "stdout",
          "text": [
            "Здравствуйте, Ivan!\n",
            "Это пример функции\n"
          ]
        }
      ]
    },
    {
      "cell_type": "markdown",
      "source": [
        "**Важное** замечание о роли **отступов** в функциях.\n",
        "\n",
        "Python использует отступы, чтобы понимать, какие строки кода **относятся к функции**. Всё, что находится внутри функции, должно иметь одинаковый отступ.\n",
        "\n",
        "Пример правильного использования отступов:"
      ],
      "metadata": {
        "id": "w0QF8OBa0QUJ"
      }
    },
    {
      "cell_type": "code",
      "source": [
        "def greet():\n",
        "    print(\"Привет!\")  # Отступ показывает, что эти строки принадлежат функции greet\n",
        "    print(\"Рад вас видеть!\")"
      ],
      "metadata": {
        "id": "B_1k6KG256VV"
      },
      "execution_count": 18,
      "outputs": []
    },
    {
      "cell_type": "markdown",
      "source": [
        "Если **отступов нет** или они разные, Python не сможет понять структуру кода и выдаст **ошибку.**\n",
        "\n",
        "**Пример ошибки** из-за неправильных отступов:"
      ],
      "metadata": {
        "id": "_MEOdQVA5_z9"
      }
    },
    {
      "cell_type": "code",
      "source": [
        "def greet():\n",
        "print(\"Привет!\")  # Ошибка: нет отступа\n",
        "print(\"Рад вас видеть!\")  # Ошибка: нет отступа"
      ],
      "metadata": {
        "colab": {
          "base_uri": "https://localhost:8080/",
          "height": 110
        },
        "id": "yXdjWAE06D7t",
        "outputId": "ae527cd4-6a62-4c12-f0ed-eb7b53203ade"
      },
      "execution_count": 1,
      "outputs": [
        {
          "output_type": "error",
          "ename": "IndentationError",
          "evalue": "expected an indented block after function definition on line 1 (<ipython-input-1-7643caa6a154>, line 2)",
          "traceback": [
            "\u001b[0;36m  File \u001b[0;32m\"<ipython-input-1-7643caa6a154>\"\u001b[0;36m, line \u001b[0;32m2\u001b[0m\n\u001b[0;31m    print(\"Привет!\")  # Ошибка: нет отступа\u001b[0m\n\u001b[0m    ^\u001b[0m\n\u001b[0;31mIndentationError\u001b[0m\u001b[0;31m:\u001b[0m expected an indented block after function definition on line 1\n"
          ]
        }
      ]
    },
    {
      "cell_type": "markdown",
      "source": [
        "\n",
        "### Аргументы функции:\n",
        "Функции могут принимать данные на вход — это называется **аргументы функции**. Аргументы позволяют передавать значения внутрь функции, чтобы она могла работать с ними.\n",
        "\n",
        "**Имена** аргументов можно придумать **любые**. Например, если функция приветствует человека по имени, то аргумент назовем name. Главное, чтобы название аргумента отражало суть данных, которые в него передаются."
      ],
      "metadata": {
        "id": "H05AGowo1rxH"
      }
    },
    {
      "cell_type": "code",
      "source": [
        "def greet_patient(name):\n",
        "    print(\"Здравствуйте,\", name)\n",
        "\n",
        "greet_patient(\"Nikita\")"
      ],
      "metadata": {
        "id": "g1dmSuOQ1tN_",
        "colab": {
          "base_uri": "https://localhost:8080/"
        },
        "outputId": "ce6f4a4e-5c58-41c4-e85f-5a528138a2db"
      },
      "execution_count": null,
      "outputs": [
        {
          "output_type": "stream",
          "name": "stdout",
          "text": [
            "Здравствуйте, Nikita\n"
          ]
        }
      ]
    },
    {
      "cell_type": "markdown",
      "source": [
        "###Функция как рецепт\n",
        "\n",
        "Функцию можно представить как **рецепт**.\n",
        "\n",
        "В рецепте мы указываем **последовательность шагов**, а также **ингредиенты**, которые нам нужны, чтобы приготовить блюдо.\n",
        "\n",
        "**Функция** работает так же: в ней есть **шаги,** которые выполняются, и данные (**аргументы**), с которыми она работает.\n",
        "\n",
        "Представим, что у нас есть рецепт напитка:"
      ],
      "metadata": {
        "id": "w36Ueurw30Be"
      }
    },
    {
      "cell_type": "code",
      "source": [
        "# Рецепт напитка в виде функции\n",
        "def make_drink(water, sugar):\n",
        "    print(\"Наливаем\", water, \"мл воды\")\n",
        "    print(\"Добавляем\", sugar, \"г сахара\")\n",
        "    print(\"Перемешиваем\")\n",
        "\n",
        "# Вызовем функцию с нужными ингредиентами\n",
        "make_drink(250, 15)"
      ],
      "metadata": {
        "colab": {
          "base_uri": "https://localhost:8080/"
        },
        "id": "QyzH97B0_irb",
        "outputId": "1a1b022f-adbc-4dac-8ead-f2abd1113595"
      },
      "execution_count": null,
      "outputs": [
        {
          "output_type": "stream",
          "name": "stdout",
          "text": [
            "Наливаем 250 мл воды\n",
            "Добавляем 15 г сахара\n",
            "Перемешиваем\n"
          ]
        }
      ]
    },
    {
      "cell_type": "markdown",
      "source": [
        "###Вернуть значение из функции\n",
        "\n",
        "В Python **оператор return** используется для того, чтобы функция **вернула результат** своей работы.\n",
        "\n",
        "Это позволяет **передать результат** вызова функции туда, где она была **вызвана**, чтобы его можно было использовать дальше в коде.\n",
        "\n",
        "**Важно помнить**: как только функция доходит до return, она завершает свою работу и возвращает указанное значение. Любой код, написанный после return в теле функции, выполнен не будет."
      ],
      "metadata": {
        "id": "DClbK2v__wJ0"
      }
    },
    {
      "cell_type": "markdown",
      "source": [
        "Представьте, что нам нужно создать функцию, которая **умножает** число на два и **возвращает** результат.\n",
        "\n",
        "Вызвав эту функцию, мы можем сохранить результат и использовать его дальше."
      ],
      "metadata": {
        "id": "9eTlsB6i70y1"
      }
    },
    {
      "cell_type": "code",
      "source": [
        "# Функция для умножения числа на 2\n",
        "def multiply_by_two(number):\n",
        "    return number * 2\n",
        "\n",
        "print(\"Результат:\", multiply_by_two(5))  # Ожидаемый ответ: 10"
      ],
      "metadata": {
        "id": "cYDLNsNxtkjn",
        "colab": {
          "base_uri": "https://localhost:8080/"
        },
        "outputId": "870f3976-1596-4094-d013-751f6216a114"
      },
      "execution_count": 5,
      "outputs": [
        {
          "output_type": "stream",
          "name": "stdout",
          "text": [
            "Результат: 10\n"
          ]
        }
      ]
    },
    {
      "cell_type": "markdown",
      "source": [
        "### Практическое задание:\n",
        "**Напишите функцию**, которая принимает одно число, возводит его в квадрат и возвращает результат. Попробуйте вызвать функцию и вывести результат.\n",
        "\n",
        "Вы можете назвать свою функцию как угодно, например square"
      ],
      "metadata": {
        "id": "I8GXqSS_8UJ3"
      }
    },
    {
      "cell_type": "code",
      "source": [
        "def square(number):\n",
        "    return number ** 2\n",
        "\n",
        "user_input = int(input(\"Введите число, которое хотите возвести в квадрат: \"))\n",
        "result = square(user_input)\n",
        "\n",
        "print(\"Квадрат числа \", user_input , \" равен \" , result , \".\")\n",
        "\n"
      ],
      "metadata": {
        "id": "kcSEJegZ8eSe",
        "colab": {
          "base_uri": "https://localhost:8080/"
        },
        "outputId": "be3aeca6-5483-4fd5-f0bf-4f5db683fd40"
      },
      "execution_count": 17,
      "outputs": [
        {
          "output_type": "stream",
          "name": "stdout",
          "text": [
            "Введите число, которое хотите возвести в квадрат: 6\n",
            "Квадрат числа  6  равен  36 .\n"
          ]
        }
      ]
    },
    {
      "cell_type": "markdown",
      "source": [
        "### Функции с несколькими аргументами:\n",
        "Функции могут принимать **любое количество аргументов**.\n",
        "\n",
        "Представим, что нам нужно **сложить два числа**. Для этого создадим функцию add которая принимает два аргумента, a и b.\n",
        "\n",
        "**Примечание**: вы можете давать функциям и аргументам **любые имена**, но рекомендуется чтобы они были понятны.\n",
        "\n",
        "Важно помнить про отступы — весь код, который будет внутри функции, должен иметь отступ, чтобы Python \"видел\", что эти строки принадлежат функции."
      ],
      "metadata": {
        "id": "sLiAneSK1y1m"
      }
    },
    {
      "cell_type": "code",
      "source": [
        "# Функция для сложения двух чисел\n",
        "def add(a, b):\n",
        "  return a + b\n",
        "\n",
        "print(\"Результат функции: \", add(10, 15))"
      ],
      "metadata": {
        "id": "jpjTj_sN10We",
        "colab": {
          "base_uri": "https://localhost:8080/"
        },
        "outputId": "547e06be-e1b5-41e6-8118-86d3a54fb985"
      },
      "execution_count": 16,
      "outputs": [
        {
          "output_type": "stream",
          "name": "stdout",
          "text": [
            "Результат функции:  25\n"
          ]
        }
      ]
    },
    {
      "cell_type": "markdown",
      "source": [
        "### Задание 1:\n",
        "\n",
        "**Напишите функцию, которая просто выводит сообщение \"Доброе утро!\" при вызове.**\n",
        "\n",
        "Назовите её, например, good_morning."
      ],
      "metadata": {
        "id": "o9WRL8LV5ZWM"
      }
    },
    {
      "cell_type": "code",
      "source": [
        "def good_morning():\n",
        "    print(\"Доброе утро!\")\n",
        "\n",
        "good_morning()\n"
      ],
      "metadata": {
        "id": "Y5QbpEGm5YzM",
        "colab": {
          "base_uri": "https://localhost:8080/"
        },
        "outputId": "95baed32-578f-4bd2-9dcc-90b2d607d7ee"
      },
      "execution_count": 10,
      "outputs": [
        {
          "output_type": "stream",
          "name": "stdout",
          "text": [
            "Доброе утро!\n"
          ]
        }
      ]
    },
    {
      "cell_type": "markdown",
      "source": [
        "### Задание 2:\n",
        "**Напишите функцию, которая считает площадь прямоугольника**\n",
        "\n",
        "Подсказка:\n",
        "\n",
        "Площадь прямоугольника можно вычислить, умножив длину на ширину.\n",
        "\n",
        "Создайте функцию, назовите ее, например, rectangle_area.\n",
        "\n",
        "Функция должна **принимать два аргумента**: длину (length) и ширину (width), чтобы использовать их в формуле."
      ],
      "metadata": {
        "id": "FeHDpdpo2N-m"
      }
    },
    {
      "cell_type": "code",
      "source": [
        "def rectangle_area(length, width):\n",
        "    area = length * width\n",
        "    return area\n",
        "\n",
        "\n",
        "length = float(input(\"Введите длину прямоугольника: \"))\n",
        "width = float(input(\"Введите ширину прямоугольника: \"))\n",
        "\n",
        "\n",
        "area = rectangle_area(length, width)\n",
        "print(\"Площадь прямоугольника равна:\", area)\n"
      ],
      "metadata": {
        "id": "UOEFmJZ6k6Jt",
        "colab": {
          "base_uri": "https://localhost:8080/"
        },
        "outputId": "145f032a-6f14-48fe-9578-3ce6f787ef87"
      },
      "execution_count": 11,
      "outputs": [
        {
          "output_type": "stream",
          "name": "stdout",
          "text": [
            "Введите длину прямоугольника: 5\n",
            "Введите ширину прямоугольника: 3\n",
            "Площадь прямоугольника равна: 15.0\n"
          ]
        }
      ]
    },
    {
      "cell_type": "markdown",
      "source": [
        "### Задание 3:\n",
        "\n",
        "**Создайте функцию, которая возвращает наибольшее из двух чисел.**\n",
        "\n",
        "Подсказка:\n",
        "\n",
        "Вспомните, как работает **условие if**: оно помогает выбрать большее число.\n",
        "\n",
        "Назовите функцию, например, max_of_two.\n",
        "\n",
        "Функция должна **принимать** два аргумента, a и b, и **возвращать** большее из них.\n"
      ],
      "metadata": {
        "id": "jzUx3Kpi1YXH"
      }
    },
    {
      "cell_type": "code",
      "source": [
        "def max_of_two(a, b):\n",
        "    if a > b:\n",
        "        return a\n",
        "    else:\n",
        "        return b\n",
        "\n",
        "num1 = float(input(\"Введите первое число: \"))\n",
        "num2 = float(input(\"Введите второе число: \"))\n",
        "\n",
        "result = max_of_two(num1, num2)\n",
        "print(\"Наибольшее число:\", result)\n"
      ],
      "metadata": {
        "id": "ivnewDLLk6T8",
        "colab": {
          "base_uri": "https://localhost:8080/"
        },
        "outputId": "d31aaa16-c6bb-4bf3-f80f-efb72c7b2fe7"
      },
      "execution_count": 12,
      "outputs": [
        {
          "output_type": "stream",
          "name": "stdout",
          "text": [
            "Введите первое число: 70\n",
            "Введите второе число: 69\n",
            "Наибольшее число: 70.0\n"
          ]
        }
      ]
    },
    {
      "cell_type": "markdown",
      "source": [
        "### Задание 4:\n",
        "\n",
        "**Создайте функцию, которая возвращает наибольший из трех введенных чисел.**\n",
        "\n",
        "Подсказка:\n",
        "\n",
        "Вы можете использовать вложенные условия if или воспользоваться функцией max_of_two из предыдущего задания.\n",
        "\n",
        "Назовите функцию, например, max_of_three.\n",
        "\n",
        "Пусть функция **принимает** три аргумента: a, b и c, а затем использует условия для сравнения этих чисел."
      ],
      "metadata": {
        "id": "xTUMa-uu1Z-m"
      }
    },
    {
      "cell_type": "code",
      "source": [
        "def max_of_three(a, b, c):\n",
        "\n",
        "    if a >= b and a >= c:\n",
        "        return a\n",
        "    elif b >= a and b >= c:\n",
        "        return b\n",
        "    else:\n",
        "        return c\n",
        "\n",
        "num1 = float(input(\"Введите первое число: \"))\n",
        "num2 = float(input(\"Введите второе число: \"))\n",
        "num3 = float(input(\"Введите третье число: \"))\n",
        "\n",
        "largest_number = max_of_three(num1, num2, num3)\n",
        "print(\"Наибольшее число:\", largest_number)\n"
      ],
      "metadata": {
        "colab": {
          "base_uri": "https://localhost:8080/"
        },
        "id": "bil6nAxu__14",
        "outputId": "8bad8024-fa6e-488f-d3dd-1edb7ead3399"
      },
      "execution_count": 13,
      "outputs": [
        {
          "output_type": "stream",
          "name": "stdout",
          "text": [
            "Введите первое число: 78\n",
            "Введите второе число: 34\n",
            "Введите третье число: 65\n",
            "Наибольшее число: 78.0\n"
          ]
        }
      ]
    },
    {
      "cell_type": "markdown",
      "source": [
        "## Словари\n",
        "Словари — это структура данных, которая хранит пары \"ключ-значение\". Например, в словаре можно хранить данные о пациенте: его имя, возраст и диагноз.\n",
        "\n",
        "### Пример:\n"
      ],
      "metadata": {
        "id": "v3xVmBXd2aXW"
      }
    },
    {
      "cell_type": "code",
      "source": [
        "# Словарь с данными пациента\n",
        "patient = {\"name\": \"Иван Иванов\", \"age\": 30, \"diagnosis\": \"грипп\"}\n",
        "print(\"Имя пациента:\", patient[\"name\"])\n",
        "print(\"Возраст пациента:\", patient[\"age\"])\n",
        "print(\"Диагноз пациента:\", patient[\"diagnosis\"])"
      ],
      "metadata": {
        "id": "86Ai0D172b-v",
        "colab": {
          "base_uri": "https://localhost:8080/"
        },
        "outputId": "7a0b648d-f582-4ff2-e978-f941e044a984"
      },
      "execution_count": 15,
      "outputs": [
        {
          "output_type": "stream",
          "name": "stdout",
          "text": [
            "Имя пациента: Иван Иванов\n",
            "Возраст пациента: 30\n",
            "Диагноз пациента: грипп\n"
          ]
        }
      ]
    },
    {
      "cell_type": "code",
      "source": [
        "data = {\"name\":\"Никита\", \"age\":20}\n",
        "\n",
        "data[\"age\"]"
      ],
      "metadata": {
        "colab": {
          "base_uri": "https://localhost:8080/"
        },
        "id": "QsMdf6U-7c6h",
        "outputId": "e7d0fdcd-2020-4552-c67a-61f2525d17d4"
      },
      "execution_count": 14,
      "outputs": [
        {
          "output_type": "execute_result",
          "data": {
            "text/plain": [
              "20"
            ]
          },
          "metadata": {},
          "execution_count": 14
        }
      ]
    }
  ]
}