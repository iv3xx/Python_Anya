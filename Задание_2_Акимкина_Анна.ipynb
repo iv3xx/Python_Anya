{
  "nbformat": 4,
  "nbformat_minor": 0,
  "metadata": {
    "colab": {
      "provenance": []
    },
    "kernelspec": {
      "name": "python3",
      "display_name": "Python 3"
    },
    "language_info": {
      "name": "python"
    }
  },
  "cells": [
    {
      "cell_type": "markdown",
      "source": [
        "Напишите свое ФИО и номер группы:"
      ],
      "metadata": {
        "id": "c88OdMbHyhww"
      }
    },
    {
      "cell_type": "code",
      "execution_count": null,
      "metadata": {
        "id": "AxsTAwoGyen7"
      },
      "outputs": [],
      "source": [
        "Акимкина Анна 0322"
      ]
    },
    {
      "cell_type": "markdown",
      "source": [
        "## Задания для закрепления материала по циклам и функциям:"
      ],
      "metadata": {
        "id": "iBuAkSFB1f5H"
      }
    },
    {
      "cell_type": "markdown",
      "source": [
        "1. **Простая функция сложения:**\n",
        "   Напишите функцию `add(a, b)`, которая принимает два числа и возвращает их сумму. Затем вызовите функцию с разными значениями и выведите результат."
      ],
      "metadata": {
        "id": "Ii4dZAqq1hKf"
      }
    },
    {
      "cell_type": "code",
      "source": [
        "def add(a, b):\n",
        "    return a + b\n",
        "\n",
        "\n",
        "result1 = add(5, 3)\n",
        "print(f\"Сумма 5 и 3 равна: {result1}\")\n",
        "\n",
        "result2 = add(10, 15)\n",
        "print(f\"Сумма 10 и 15 равна: {result2}\")\n",
        "\n",
        "result3 = add(-1, 4)\n",
        "print(f\"Сумма -1 и 4 равна: {result3}\")\n"
      ],
      "metadata": {
        "id": "vodsNbdp1hvO",
        "colab": {
          "base_uri": "https://localhost:8080/"
        },
        "outputId": "e05471e7-a22a-4152-cb98-ad2b31672cf0"
      },
      "execution_count": 1,
      "outputs": [
        {
          "output_type": "stream",
          "name": "stdout",
          "text": [
            "Сумма 5 и 3 равна: 8\n",
            "Сумма 10 и 15 равна: 25\n",
            "Сумма -1 и 4 равна: 3\n"
          ]
        }
      ]
    },
    {
      "cell_type": "markdown",
      "source": [
        "2. **Функция для определения четного числа:**\n",
        "   Напишите функцию `is_even(n)`, которая принимает число и выводит сообщение:\n",
        "   - Если число четное, выведите \"Число X четное.\"\n",
        "   - Если число нечетное, выведите \"Число X нечетное.\"\n",
        "\n",
        "   ### Пояснение:\n",
        "   Для проверки четности используется оператор `%`, который возвращает остаток от деления. Если `n % 2 == 0`, то число делится на 2 без остатка, а значит, оно четное. Если `n % 2 != 0`, оно нечетное.\n",
        "\n",
        "   #### Примеры:\n",
        "   - `10 % 2` возвращает `0` (значит, число 10 четное).\n",
        "   - `7 % 2` возвращает `1` (значит, число 7 нечетное)."
      ],
      "metadata": {
        "id": "4jYpyAZw1iEX"
      }
    },
    {
      "cell_type": "code",
      "source": [
        "def is_even(n):\n",
        "    if n % 2 == 0:\n",
        "        print(f\"Число {n} - четное.\")\n",
        "    else:\n",
        "        print(f\"Число {n} - нечетное.\")\n",
        "\n",
        "number = int(input(\"Введите число: \"))\n",
        "is_even(number)\n"
      ],
      "metadata": {
        "id": "1z7X37VU1luv",
        "colab": {
          "base_uri": "https://localhost:8080/"
        },
        "outputId": "23eb7583-4747-41ba-dc97-344e81a443a4"
      },
      "execution_count": 6,
      "outputs": [
        {
          "output_type": "stream",
          "name": "stdout",
          "text": [
            "Введите число: 7\n",
            "Число 7 - нечетное.\n"
          ]
        }
      ]
    },
    {
      "cell_type": "markdown",
      "source": [
        "3. **Факториал числа с использованием функции:**\n",
        "   Напишите функцию `factorial(n)`, которая принимает число `n` и возвращает его факториал, используя цикл `for`.\n",
        "\n",
        "   ### Пояснение:\n",
        "   Факториал числа `n` — это произведение всех чисел от 1 до `n`. Например, факториал числа 5 обозначается как `5!` и вычисляется так: `5 * 4 * 3 * 2 * 1 = 120`. Таким образом, `factorial(5)` должно вернуть `120`."
      ],
      "metadata": {
        "id": "0XhxVe1W1pEA"
      }
    },
    {
      "cell_type": "code",
      "source": [
        "def factorial(n):\n",
        "    if n < 0:\n",
        "        print(\"Факториал не определен для отрицательных чисел.\")\n",
        "        return \"НЕ ОПРЕДЕЛЕН\"\n",
        "    elif n == 0 or n == 1:\n",
        "        return 1\n",
        "    else:\n",
        "        result = 1\n",
        "        for i in range(2, n + 1):\n",
        "            result *= i\n",
        "        return result\n",
        "\n",
        "\n",
        "number = int(input(\"Введите число для вычисления его факториала: \"))\n",
        "fact = factorial(number)\n",
        "\n",
        "print(f\"Факториал числа {number} равен {fact}.\")\n",
        "\n"
      ],
      "metadata": {
        "id": "j7jQ7CTC1p1P",
        "colab": {
          "base_uri": "https://localhost:8080/"
        },
        "outputId": "385ada04-c840-45bf-9e72-bac1fd8d3f45"
      },
      "execution_count": 14,
      "outputs": [
        {
          "output_type": "stream",
          "name": "stdout",
          "text": [
            "Введите число для вычисления его факториала: 5\n",
            "Факториал числа 5 равен 120.\n"
          ]
        }
      ]
    },
    {
      "cell_type": "markdown",
      "source": [
        "4. **Таблица умножения с функцией:**\n",
        "   Напишите функцию `multiplication_table(n)`, которая принимает число и выводит таблицу умножения для него от 1 до 10. Используйте цикл `for` для вывода таблицы."
      ],
      "metadata": {
        "id": "ChWhk8PK1rcH"
      }
    },
    {
      "cell_type": "code",
      "source": [
        "def multiplication_table(n):\n",
        "    print(f\"Таблица умножения для числа {n}:\")\n",
        "    for i in range(1, 11):\n",
        "        result = n * i\n",
        "        print(f\"{n} x {i} = {result}\")\n",
        "\n",
        "number = int(input(\"Введите число для вывода таблицы умножения: \"))\n",
        "multiplication_table(number)\n"
      ],
      "metadata": {
        "id": "T7_LMT0Z1tsu",
        "colab": {
          "base_uri": "https://localhost:8080/"
        },
        "outputId": "8c5a9c05-a872-4a08-bfb9-78432d772a0d"
      },
      "execution_count": 15,
      "outputs": [
        {
          "output_type": "stream",
          "name": "stdout",
          "text": [
            "Введите число для вывода таблицы умножения: 8\n",
            "Таблица умножения для числа 8:\n",
            "8 x 1 = 8\n",
            "8 x 2 = 16\n",
            "8 x 3 = 24\n",
            "8 x 4 = 32\n",
            "8 x 5 = 40\n",
            "8 x 6 = 48\n",
            "8 x 7 = 56\n",
            "8 x 8 = 64\n",
            "8 x 9 = 72\n",
            "8 x 10 = 80\n"
          ]
        }
      ]
    },
    {
      "cell_type": "markdown",
      "source": [
        "\n",
        "5. **Сумма всех чисел до N:**\n",
        "   Напишите функцию `sum_to_n(n)`, которая принимает число `n` и возвращает сумму всех чисел от 1 до `n`. Например, `sum_to_n(5)` должно вернуть `15`.\n"
      ],
      "metadata": {
        "id": "3P6eKyKR1tNe"
      }
    },
    {
      "cell_type": "code",
      "source": [
        "def sum_to_n(n):\n",
        "    return n * (n + 1) // 2\n",
        "\n",
        "\n",
        "n = int(input(\"Введите число n: \"))\n",
        "result = sum_to_n(n)\n",
        "print(f\"Сумма всех чисел от 1 до {n} равна {result}.\")\n"
      ],
      "metadata": {
        "id": "bw78mJv31ubX",
        "colab": {
          "base_uri": "https://localhost:8080/"
        },
        "outputId": "de4180a5-bd36-41e2-8e29-89d98e589156"
      },
      "execution_count": 17,
      "outputs": [
        {
          "output_type": "stream",
          "name": "stdout",
          "text": [
            "Введите число n: 5\n",
            "Сумма всех чисел от 1 до 5 равна 15.\n"
          ]
        }
      ]
    },
    {
      "cell_type": "markdown",
      "source": [
        "\n",
        "6. **Повторяющийся текст:**\n",
        "   Напишите функцию `repeat_text(text, times)`, которая принимает строку `text` и число `times`, затем выводит эту строку `times` раз. Используйте цикл `for` для повторений.\n"
      ],
      "metadata": {
        "id": "YeAHkhFZ1wfQ"
      }
    },
    {
      "cell_type": "code",
      "source": [
        "def repeat_text(text, times):\n",
        "    for _ in range(times):\n",
        "        print(text)\n",
        "\n",
        "text_input = input(\"Введите текст для повторения: \")\n",
        "times_input = int(input(\"Сколько раз повторить текст? \"))\n",
        "\n",
        "repeat_text(text_input, times_input)\n"
      ],
      "metadata": {
        "id": "dYp-WvA71xxo",
        "colab": {
          "base_uri": "https://localhost:8080/"
        },
        "outputId": "3004a405-c864-4949-861c-324811c9c302"
      },
      "execution_count": 19,
      "outputs": [
        {
          "output_type": "stream",
          "name": "stdout",
          "text": [
            "Введите текст для повторения: УРА!!!\n",
            "Сколько раз повторить текст? 3\n",
            "УРА!!!\n",
            "УРА!!!\n",
            "УРА!!!\n"
          ]
        }
      ]
    },
    {
      "cell_type": "markdown",
      "source": [
        "\n",
        "7. **Вывод чисел от 1 до N:**\n",
        "   Напишите функцию `print_numbers(n)`, которая принимает число `n` и выводит все числа от 1 до `n` с помощью цикла `for`."
      ],
      "metadata": {
        "id": "EL3jpsoZ1zPn"
      }
    },
    {
      "cell_type": "code",
      "source": [
        "def print_numbers(n):\n",
        "    for i in range(1, n + 1):\n",
        "        print(i)\n",
        "\n",
        "n = int(input(\"Введите число N: \"))\n",
        "print_numbers(n)\n"
      ],
      "metadata": {
        "id": "3nHVGcTW1y03",
        "colab": {
          "base_uri": "https://localhost:8080/"
        },
        "outputId": "e4601dbd-e02e-4acd-a6dd-a0d0a8d7882a"
      },
      "execution_count": 20,
      "outputs": [
        {
          "output_type": "stream",
          "name": "stdout",
          "text": [
            "Введите число N: 7\n",
            "1\n",
            "2\n",
            "3\n",
            "4\n",
            "5\n",
            "6\n",
            "7\n"
          ]
        }
      ]
    },
    {
      "cell_type": "markdown",
      "source": [
        "8. **Сумма всех четных чисел до N:**\n",
        "   Напишите функцию `sum_of_even(n)`, которая принимает число `n` и вычисляет сумму всех четных чисел от 1 до `n`. Например, для `sum_of_even(10)` результатом будет `30` (2 + 4 + 6 + 8 + 10).\n",
        "\n",
        "   ### Пояснение:\n",
        "   Для того чтобы суммировать только четные числа, внутри цикла нужно добавить условный оператор `if`, который проверяет, является ли текущее число четным (например, `if i % 2 == 0:`).\n"
      ],
      "metadata": {
        "id": "7UAmp7Jr11Dw"
      }
    },
    {
      "cell_type": "code",
      "source": [
        "def sum_of_even(n):\n",
        "    total_sum = 0\n",
        "\n",
        "    for num in range(1, n + 1):\n",
        "        if num % 2 == 0:\n",
        "            total_sum += num\n",
        "    return total_sum\n",
        "\n",
        "n = int(input(\"Введите число N: \"))\n",
        "result = sum_of_even(n)\n",
        "print(f\"Сумма всех четных чисел от 1 до {n} равна {result}.\")\n"
      ],
      "metadata": {
        "id": "-m4IHzio11gI",
        "colab": {
          "base_uri": "https://localhost:8080/"
        },
        "outputId": "4a4513fe-71b9-4482-9a2b-746a75c9c7d8"
      },
      "execution_count": 22,
      "outputs": [
        {
          "output_type": "stream",
          "name": "stdout",
          "text": [
            "Введите число N: 10\n",
            "Сумма всех четных чисел от 1 до 10 равна 30.\n"
          ]
        }
      ]
    },
    {
      "cell_type": "markdown",
      "source": [
        "\n",
        "\n",
        "9. **Простая функция для счета до N:**\n",
        "   Напишите функцию `count_up_to(n)`, которая принимает число `n` и выводит числа от 1 до `n`, используя цикл `while`.\n"
      ],
      "metadata": {
        "id": "IQtdpChA12Mo"
      }
    },
    {
      "cell_type": "code",
      "source": [
        "def count_up_to(n):\n",
        "    count = 1\n",
        "\n",
        "    while count <= n:\n",
        "        print(count)\n",
        "        count += 1\n",
        "n = int(input(\"Введите число N: \"))\n",
        "count_up_to(n)\n"
      ],
      "metadata": {
        "id": "9_vCY8ds15Xf",
        "colab": {
          "base_uri": "https://localhost:8080/"
        },
        "outputId": "58b44ded-9e9e-40b6-bc8a-487df79b55b5"
      },
      "execution_count": 23,
      "outputs": [
        {
          "output_type": "stream",
          "name": "stdout",
          "text": [
            "Введите число N: 6\n",
            "1\n",
            "2\n",
            "3\n",
            "4\n",
            "5\n",
            "6\n"
          ]
        }
      ]
    },
    {
      "cell_type": "markdown",
      "source": [
        "10. **Вывод чисел в обратном порядке:**\n",
        "    Напишите функцию `count_down(n)`, которая принимает число `n` и выводит все числа от `n` до 1 в обратном порядке. Используйте цикл `while`."
      ],
      "metadata": {
        "id": "3kGBEVEu17Lg"
      }
    },
    {
      "cell_type": "code",
      "source": [
        "n = 10\n",
        "while n > 0:\n",
        "  print(n)\n",
        "  n -= 1"
      ],
      "metadata": {
        "colab": {
          "base_uri": "https://localhost:8080/"
        },
        "id": "_pNsEc5kUAU-",
        "outputId": "88a969d5-0834-4c8c-cb84-eaf0b54f236e"
      },
      "execution_count": 28,
      "outputs": [
        {
          "output_type": "stream",
          "name": "stdout",
          "text": [
            "10\n",
            "9\n",
            "8\n",
            "7\n",
            "6\n",
            "5\n",
            "4\n",
            "3\n",
            "2\n",
            "1\n"
          ]
        }
      ]
    },
    {
      "cell_type": "markdown",
      "source": [
        "### Объяснение:\n",
        "- В этом примере переменная `n` начинает с заданного значения (например, 10).\n",
        "- Пока `n` больше 0, программа выполняет код внутри цикла: выводит значение `n` и уменьшает его на 1.\n",
        "- Это позволяет постепенно снижать значение `n` до тех пор, пока оно не станет равно 0, после чего цикл завершится.\n"
      ],
      "metadata": {
        "id": "YqbPCgGDynJB"
      }
    },
    {
      "cell_type": "code",
      "source": [
        "def count_down(n):\n",
        "    if n <= 0:\n",
        "        print(\"Пожалуйста, введите положительное число.\")\n",
        "        return\n",
        "\n",
        "    while n > 0:\n",
        "        print(n)\n",
        "        n -= 1\n",
        "\n",
        "number = int(input(\"Введите число для обратного подсчета: \"))\n",
        "count_down(number)\n"
      ],
      "metadata": {
        "id": "vKN4sNWs2RCH",
        "colab": {
          "base_uri": "https://localhost:8080/"
        },
        "outputId": "9d961796-6088-4f43-97b7-4106df4da605"
      },
      "execution_count": 29,
      "outputs": [
        {
          "output_type": "stream",
          "name": "stdout",
          "text": [
            "Введите число для обратного подсчета: 9\n",
            "9\n",
            "8\n",
            "7\n",
            "6\n",
            "5\n",
            "4\n",
            "3\n",
            "2\n",
            "1\n"
          ]
        }
      ]
    }
  ]
}